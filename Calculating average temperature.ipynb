{
 "cells": [
  {
   "cell_type": "markdown",
   "id": "ce4c6393",
   "metadata": {},
   "source": [
    "# Calculating average temperature of the days and find the number of days above average\n"
   ]
  },
  {
   "cell_type": "code",
   "execution_count": 11,
   "id": "84266a47",
   "metadata": {},
   "outputs": [
    {
     "name": "stdout",
     "output_type": "stream",
     "text": [
      "How many days temperature?: 3\n",
      "Day 1's high temperature: '20\n",
      "Day 2's high temperature: '30\n",
      "Day 3's high temperature: '40\n",
      "Average = 30.0\n",
      "1 days above average\n"
     ]
    }
   ],
   "source": [
    "numDays = int(input(\"How many days temperature?: \"))\n",
    "total = 0 \n",
    "temp = []\n",
    "for i in range(1,numDays+1):\n",
    "    nextDay = int(input(\"Day \" + str(i) + \"'s high temperature: '\"))\n",
    "    temp.append(nextDay)\n",
    "    total += temp[i-1]\n",
    "\n",
    "avg = round(total/numDays,2)\n",
    "print(\"Average = \" + str(avg))  \n",
    "\n",
    "above = 0\n",
    "for i in temp:\n",
    "    if i>avg:\n",
    "        above += 1\n",
    "\n",
    "print(str(above) + \" days above average\")"
   ]
  },
  {
   "cell_type": "markdown",
   "id": "1d09d2bf",
   "metadata": {},
   "source": []
  }
 ],
 "metadata": {
  "kernelspec": {
   "display_name": "Python 3",
   "language": "python",
   "name": "python3"
  },
  "language_info": {
   "codemirror_mode": {
    "name": "ipython",
    "version": 3
   },
   "file_extension": ".py",
   "mimetype": "text/x-python",
   "name": "python",
   "nbconvert_exporter": "python",
   "pygments_lexer": "ipython3",
   "version": "3.9.11"
  }
 },
 "nbformat": 4,
 "nbformat_minor": 5
}
